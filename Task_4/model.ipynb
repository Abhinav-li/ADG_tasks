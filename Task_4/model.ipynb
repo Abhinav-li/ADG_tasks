{
 "cells": [
  {
   "cell_type": "code",
   "execution_count": 1,
   "metadata": {},
   "outputs": [
    {
     "name": "stdout",
     "output_type": "stream",
     "text": [
      "403\n",
      "501\n",
      "410\n",
      "594\n",
      "482\n",
      "137\n"
     ]
    }
   ],
   "source": [
    "import os\n",
    "import tensorflow as tf\n",
    "from tensorflow.keras.optimizers import RMSprop\n",
    "from tensorflow.keras.preprocessing.image import ImageDataGenerator\n",
    "\n",
    "print(len(os.listdir('Garbage_classification/Garbage_classification/cardboard/')))\n",
    "print(len(os.listdir('Garbage_classification/Garbage_classification/glass/')))\n",
    "print(len(os.listdir('Garbage_classification/Garbage_classification/metal/')))\n",
    "print(len(os.listdir('Garbage_classification/Garbage_classification/paper/')))\n",
    "print(len(os.listdir('Garbage_classification/Garbage_classification/plastic/')))\n",
    "print(len(os.listdir('Garbage_classification/Garbage_classification/trash/')))"
   ]
  },
  {
   "cell_type": "code",
   "execution_count": 2,
   "metadata": {},
   "outputs": [],
   "source": [
    "try:\n",
    "    os.mkdir('Garbage_classification/training')\n",
    "    os.mkdir('Garbage_classification/training/cardboard')\n",
    "    os.mkdir('Garbage_classification/training/glass')\n",
    "    os.mkdir('Garbage_classification/training/metal')\n",
    "    os.mkdir('Garbage_classification/training/paper')\n",
    "    os.mkdir('Garbage_classification/training/plastic')\n",
    "    os.mkdir('Garbage_classification/training/trash')\n",
    "    os.mkdir('Garbage_classification/testing')\n",
    "    os.mkdir('Garbage_classification/testing/cardboard')\n",
    "    os.mkdir('Garbage_classification/testing/glass')\n",
    "    os.mkdir('Garbage_classification/testing/metal')\n",
    "    os.mkdir('Garbage_classification/testing/paper')\n",
    "    os.mkdir('Garbage_classification/testing/plastic')\n",
    "    os.mkdir('Garbage_classification/testing/trash')\n",
    "except OSError:\n",
    "    pass"
   ]
  },
  {
   "cell_type": "code",
   "execution_count": 3,
   "metadata": {},
   "outputs": [],
   "source": [
    "import random\n",
    "from shutil import copyfile\n",
    "\n",
    "def split_data(SOURCE, TRAINING, TESTING, SPLIT_SIZE):\n",
    "    files = []\n",
    "    for filename in os.listdir(SOURCE):\n",
    "        name = SOURCE + filename\n",
    "        if(os.path.getsize(name)>0):\n",
    "            files.append(filename)\n",
    "        else:\n",
    "            continue\n",
    "    train_length = int(len(files)*SPLIT_SIZE)\n",
    "    test_length = int(len(files)-train_length)\n",
    "    files = random.sample(files, len(files))\n",
    "    train_set = files[0:train_length]\n",
    "    test_set = files[-test_length:]\n",
    "    \n",
    "    for filename in train_set:\n",
    "        source = SOURCE + filename\n",
    "        dest = TRAINING + filename\n",
    "        copyfile(source , dest )\n",
    "    for filename in test_set:\n",
    "        source = SOURCE + filename\n",
    "        dest = TESTING + filename\n",
    "        copyfile(source , dest )\n",
    "\n",
    "Cardboard_Source = 'Garbage_classification/Garbage_classification/cardboard/'\n",
    "Glass_Source = 'Garbage_classification/Garbage_classification/glass/'\n",
    "Metal_Source = 'Garbage_classification/Garbage_classification/metal/'\n",
    "Paper_Source = 'Garbage_classification/Garbage_classification/paper/'\n",
    "Plastic_Source = 'Garbage_classification/Garbage_classification/plastic/'\n",
    "Trash_Source = 'Garbage_classification/Garbage_classification/trash/'\n",
    "\n",
    "\n",
    "\n",
    "Cardboard_Train = 'Garbage_classification/training/cardboard/'\n",
    "Glass_Train = 'Garbage_classification/training/glass/'\n",
    "Metal_Train = 'Garbage_classification/training/metal/'   \n",
    "Paper_Train = 'Garbage_classification/training/paper/'\n",
    "Plastic_Train = 'Garbage_classification/training/plastic/'\n",
    "Trash_Train = 'Garbage_classification/training/trash/'\n",
    "\n",
    "Cardboard_Test = 'Garbage_classification/testing/cardboard/'\n",
    "Glass_Test = 'Garbage_classification/testing/glass/'\n",
    "Metal_Test = 'Garbage_classification/testing/metal/'\n",
    "Paper_Test = 'Garbage_classification/testing/paper/'\n",
    "Plastic_Test = 'Garbage_classification/testing/plastic/'\n",
    "Trash_Test = 'Garbage_classification/testing/trash/'\n",
    "\n",
    "\n",
    "split_size = .9\n",
    "split_data(Cardboard_Source, Cardboard_Train, Cardboard_Test, split_size)\n",
    "split_data(Glass_Source, Glass_Train,Glass_Test, split_size)\n",
    "split_data(Metal_Source, Metal_Train, Metal_Test, split_size)\n",
    "split_data(Paper_Source, Paper_Train, Paper_Test, split_size)\n",
    "split_data(Plastic_Source, Plastic_Train, Plastic_Test, split_size)\n",
    "split_data(Trash_Source, Trash_Train, Trash_Test, split_size)\n"
   ]
  },
  {
   "cell_type": "code",
   "execution_count": 4,
   "metadata": {
    "scrolled": true
   },
   "outputs": [
    {
     "name": "stdout",
     "output_type": "stream",
     "text": [
      "6\n",
      "396\n",
      "495\n",
      "407\n",
      "586\n",
      "479\n",
      "136\n",
      "6\n",
      "75\n",
      "96\n",
      "79\n",
      "112\n",
      "95\n",
      "27\n"
     ]
    }
   ],
   "source": [
    "print(len(os.listdir('Garbage_classification/training')))\n",
    "print(len(os.listdir('Garbage_classification/training/cardboard')))\n",
    "print(len(os.listdir('Garbage_classification/training/glass')))\n",
    "print(len(os.listdir('Garbage_classification/training/metal')))\n",
    "print(len(os.listdir('Garbage_classification/training/paper')))\n",
    "print(len(os.listdir('Garbage_classification/training/plastic')))\n",
    "print(len(os.listdir('Garbage_classification/training/trash')))\n",
    "print(len(os.listdir('Garbage_classification/testing')))\n",
    "print(len(os.listdir('Garbage_classification/testing/cardboard')))\n",
    "print(len(os.listdir('Garbage_classification/testing/glass')))\n",
    "print(len(os.listdir('Garbage_classification/testing/metal')))\n",
    "print(len(os.listdir('Garbage_classification/testing/paper')))\n",
    "print(len(os.listdir('Garbage_classification/testing/plastic')))\n",
    "print(len(os.listdir('Garbage_classification/testing/trash')))\n"
   ]
  },
  {
   "cell_type": "code",
   "execution_count": 5,
   "metadata": {},
   "outputs": [
    {
     "name": "stdout",
     "output_type": "stream",
     "text": [
      "Found 2499 images belonging to 6 classes.\n",
      "Found 484 images belonging to 6 classes.\n"
     ]
    }
   ],
   "source": [
    "TRAINING_DIR = 'Garbage_classification/training/'\n",
    "train_datagen = ImageDataGenerator(rescale = 1./255,\n",
    "                                  rotation_range = 40,\n",
    "                                  width_shift_range = 0.2,\n",
    "                                  height_shift_range = 0.2,\n",
    "                                  shear_range = 0.2,\n",
    "                                  zoom_range = 0.2,\n",
    "                                  horizontal_flip = True,\n",
    "                                  fill_mode = 'nearest')\n",
    "train_generator = train_datagen.flow_from_directory(TRAINING_DIR,\n",
    "                                                   batch_size = 10,\n",
    "                                                   class_mode = 'sparse',\n",
    "                                                   target_size = (150,150))\n",
    "\n",
    "VALIDATION_DIR = 'Garbage_classification/testing/'\n",
    "validation_datagen = ImageDataGenerator(rescale = 1./255,\n",
    "                                       rotation_range = 40,\n",
    "                                       width_shift_range = 0.2,\n",
    "                                       height_shift_range = 0.2,\n",
    "                                       shear_range = 0.2,\n",
    "                                       zoom_range = 0.2,\n",
    "                                       horizontal_flip = True,\n",
    "                                       fill_mode = 'nearest')\n",
    "\n",
    "validation_generator = validation_datagen.flow_from_directory(VALIDATION_DIR,\n",
    "                                                             batch_size = 10,\n",
    "                                                             class_mode = 'sparse',\n",
    "                                                             target_size = (150,150))"
   ]
  },
  {
   "cell_type": "code",
   "execution_count": 6,
   "metadata": {},
   "outputs": [],
   "source": [
    "model = tf.keras.models.Sequential([\n",
    "    tf.keras.layers.Conv2D(64, (3, 3), activation='relu', input_shape=(150, 150, 3)),\n",
    "    tf.keras.layers.MaxPooling2D(2, 2),\n",
    "    tf.keras.layers.Conv2D(32, (3, 3), activation='relu'),\n",
    "    tf.keras.layers.MaxPooling2D(2, 2),\n",
    "    tf.keras.layers.Conv2D(16, (3, 3), activation='relu'),\n",
    "    tf.keras.layers.MaxPooling2D(2, 2),\n",
    "    tf.keras.layers.Flatten(),\n",
    "    tf.keras.layers.Dense(128,activation = 'relu'),\n",
    "    tf.keras.layers.Dense(64,activation = 'relu'),\n",
    "    tf.keras.layers.Dense(6, activation='softmax')\n",
    "])\n",
    "\n",
    "model.compile(optimizer='adam', loss='sparse_categorical_crossentropy', metrics=['acc']) "
   ]
  },
  {
   "cell_type": "code",
   "execution_count": 12,
   "metadata": {},
   "outputs": [
    {
     "name": "stdout",
     "output_type": "stream",
     "text": [
      "WARNING:tensorflow:sample_weight modes were coerced from\n",
      "  ...\n",
      "    to  \n",
      "  ['...']\n",
      "WARNING:tensorflow:sample_weight modes were coerced from\n",
      "  ...\n",
      "    to  \n",
      "  ['...']\n",
      "Train for 250 steps, validate for 49 steps\n",
      "Epoch 1/50\n",
      "250/250 [==============================] - 69s 277ms/step - loss: 0.5342 - acc: 0.8047 - val_loss: 0.5309 - val_acc: 0.8182\n",
      "Epoch 2/50\n",
      "250/250 [==============================] - 75s 301ms/step - loss: 0.5558 - acc: 0.7971 - val_loss: 0.5493 - val_acc: 0.8244\n",
      "Epoch 3/50\n",
      "250/250 [==============================] - 77s 307ms/step - loss: 0.5533 - acc: 0.7983 - val_loss: 0.5725 - val_acc: 0.7975\n",
      "Epoch 4/50\n",
      "250/250 [==============================] - 79s 314ms/step - loss: 0.5142 - acc: 0.8171 - val_loss: 0.5691 - val_acc: 0.7955\n",
      "Epoch 5/50\n",
      "250/250 [==============================] - 82s 326ms/step - loss: 0.5370 - acc: 0.7983 - val_loss: 0.5168 - val_acc: 0.8244\n",
      "Epoch 6/50\n",
      "250/250 [==============================] - 88s 353ms/step - loss: 0.5480 - acc: 0.8043 - val_loss: 0.5369 - val_acc: 0.8161\n",
      "Epoch 7/50\n",
      "250/250 [==============================] - 79s 316ms/step - loss: 0.5481 - acc: 0.8007 - val_loss: 0.5499 - val_acc: 0.8244\n",
      "Epoch 8/50\n",
      "250/250 [==============================] - 82s 326ms/step - loss: 0.5428 - acc: 0.7951 - val_loss: 0.5168 - val_acc: 0.8306\n",
      "Epoch 9/50\n",
      "250/250 [==============================] - 76s 302ms/step - loss: 0.5177 - acc: 0.8071 - val_loss: 0.5437 - val_acc: 0.7872\n",
      "Epoch 10/50\n",
      "250/250 [==============================] - 76s 306ms/step - loss: 0.5607 - acc: 0.7927 - val_loss: 0.5386 - val_acc: 0.8099\n",
      "Epoch 11/50\n",
      "250/250 [==============================] - 80s 321ms/step - loss: 0.5099 - acc: 0.8183 - val_loss: 0.4695 - val_acc: 0.8326\n",
      "Epoch 12/50\n",
      "250/250 [==============================] - 69s 276ms/step - loss: 0.5203 - acc: 0.8159 - val_loss: 0.4816 - val_acc: 0.8161\n",
      "Epoch 13/50\n",
      "250/250 [==============================] - 76s 305ms/step - loss: 0.4964 - acc: 0.8175 - val_loss: 0.6256 - val_acc: 0.7645\n",
      "Epoch 14/50\n",
      "250/250 [==============================] - 82s 327ms/step - loss: 0.5309 - acc: 0.8031 - val_loss: 0.5951 - val_acc: 0.7748\n",
      "Epoch 15/50\n",
      "250/250 [==============================] - 81s 325ms/step - loss: 0.5185 - acc: 0.8143 - val_loss: 0.4340 - val_acc: 0.8574\n",
      "Epoch 16/50\n",
      "250/250 [==============================] - 85s 342ms/step - loss: 0.4999 - acc: 0.8211 - val_loss: 0.5311 - val_acc: 0.8264\n",
      "Epoch 17/50\n",
      "250/250 [==============================] - 82s 329ms/step - loss: 0.5098 - acc: 0.8127 - val_loss: 0.5426 - val_acc: 0.8326\n",
      "Epoch 18/50\n",
      "250/250 [==============================] - 85s 341ms/step - loss: 0.4576 - acc: 0.8315 - val_loss: 0.4727 - val_acc: 0.8554\n",
      "Epoch 19/50\n",
      "250/250 [==============================] - 85s 340ms/step - loss: 0.5004 - acc: 0.8119 - val_loss: 0.4683 - val_acc: 0.8430\n",
      "Epoch 20/50\n",
      "250/250 [==============================] - 85s 341ms/step - loss: 0.4698 - acc: 0.8183 - val_loss: 0.4784 - val_acc: 0.8533\n",
      "Epoch 21/50\n",
      "250/250 [==============================] - 79s 316ms/step - loss: 0.4616 - acc: 0.8431 - val_loss: 0.4892 - val_acc: 0.8326\n",
      "Epoch 22/50\n",
      "250/250 [==============================] - 76s 303ms/step - loss: 0.5004 - acc: 0.8175 - val_loss: 0.4453 - val_acc: 0.8512\n",
      "Epoch 23/50\n",
      "250/250 [==============================] - 73s 294ms/step - loss: 0.4858 - acc: 0.8271 - val_loss: 0.4351 - val_acc: 0.8430\n",
      "Epoch 24/50\n",
      "250/250 [==============================] - 79s 316ms/step - loss: 0.4377 - acc: 0.8391 - val_loss: 0.5059 - val_acc: 0.8388\n",
      "Epoch 25/50\n",
      "250/250 [==============================] - 80s 319ms/step - loss: 0.4711 - acc: 0.8283 - val_loss: 0.4956 - val_acc: 0.8079\n",
      "Epoch 26/50\n",
      "250/250 [==============================] - 76s 305ms/step - loss: 0.4409 - acc: 0.8351 - val_loss: 0.5027 - val_acc: 0.8512\n",
      "Epoch 27/50\n",
      "250/250 [==============================] - 81s 323ms/step - loss: 0.4508 - acc: 0.8395 - val_loss: 0.4562 - val_acc: 0.8285\n",
      "Epoch 28/50\n",
      "250/250 [==============================] - 82s 328ms/step - loss: 0.4542 - acc: 0.8327 - val_loss: 0.4771 - val_acc: 0.8409\n",
      "Epoch 29/50\n",
      "250/250 [==============================] - 79s 316ms/step - loss: 0.4706 - acc: 0.8275 - val_loss: 0.5541 - val_acc: 0.8058\n",
      "Epoch 30/50\n",
      "250/250 [==============================] - 79s 315ms/step - loss: 0.4646 - acc: 0.8327 - val_loss: 0.4516 - val_acc: 0.8533\n",
      "Epoch 31/50\n",
      "250/250 [==============================] - 68s 271ms/step - loss: 0.4290 - acc: 0.8307 - val_loss: 0.4225 - val_acc: 0.8512\n",
      "Epoch 32/50\n",
      "250/250 [==============================] - 72s 287ms/step - loss: 0.4618 - acc: 0.8355 - val_loss: 0.3854 - val_acc: 0.8843\n",
      "Epoch 33/50\n",
      "250/250 [==============================] - 73s 291ms/step - loss: 0.4581 - acc: 0.8327 - val_loss: 0.4391 - val_acc: 0.8657\n",
      "Epoch 34/50\n",
      "250/250 [==============================] - 80s 322ms/step - loss: 0.4279 - acc: 0.8423 - val_loss: 0.4235 - val_acc: 0.8409\n",
      "Epoch 35/50\n",
      "250/250 [==============================] - 75s 301ms/step - loss: 0.4728 - acc: 0.8419 - val_loss: 0.4934 - val_acc: 0.8388\n",
      "Epoch 36/50\n",
      "250/250 [==============================] - 78s 310ms/step - loss: 0.4344 - acc: 0.8463 - val_loss: 0.5331 - val_acc: 0.8285\n",
      "Epoch 37/50\n",
      "250/250 [==============================] - 75s 302ms/step - loss: 0.4377 - acc: 0.8387 - val_loss: 0.4097 - val_acc: 0.8574\n",
      "Epoch 38/50\n",
      "250/250 [==============================] - 83s 330ms/step - loss: 0.4491 - acc: 0.8379 - val_loss: 0.4550 - val_acc: 0.8430\n",
      "Epoch 39/50\n",
      "250/250 [==============================] - 86s 344ms/step - loss: 0.4091 - acc: 0.8479 - val_loss: 0.5055 - val_acc: 0.8430\n",
      "Epoch 40/50\n",
      "250/250 [==============================] - 81s 325ms/step - loss: 0.3933 - acc: 0.8599 - val_loss: 0.4193 - val_acc: 0.8554\n",
      "Epoch 41/50\n",
      "250/250 [==============================] - 86s 346ms/step - loss: 0.4097 - acc: 0.8523 - val_loss: 0.4239 - val_acc: 0.8657\n",
      "Epoch 42/50\n",
      "250/250 [==============================] - 81s 323ms/step - loss: 0.4748 - acc: 0.8327 - val_loss: 0.3905 - val_acc: 0.8864\n",
      "Epoch 43/50\n",
      "250/250 [==============================] - 84s 335ms/step - loss: 0.3880 - acc: 0.8659 - val_loss: 0.3837 - val_acc: 0.8698\n",
      "Epoch 44/50\n",
      "250/250 [==============================] - 89s 357ms/step - loss: 0.4248 - acc: 0.8443 - val_loss: 0.4007 - val_acc: 0.8595\n",
      "Epoch 45/50\n",
      "250/250 [==============================] - 81s 323ms/step - loss: 0.4097 - acc: 0.8539 - val_loss: 0.3855 - val_acc: 0.8884\n",
      "Epoch 46/50\n",
      "250/250 [==============================] - 78s 314ms/step - loss: 0.3624 - acc: 0.8667 - val_loss: 0.4422 - val_acc: 0.8554\n",
      "Epoch 47/50\n",
      "250/250 [==============================] - 80s 321ms/step - loss: 0.3760 - acc: 0.8659 - val_loss: 0.4951 - val_acc: 0.8657\n",
      "Epoch 48/50\n",
      "250/250 [==============================] - 74s 296ms/step - loss: 0.4293 - acc: 0.8499 - val_loss: 0.4447 - val_acc: 0.8533\n",
      "Epoch 49/50\n",
      "250/250 [==============================] - 71s 283ms/step - loss: 0.3890 - acc: 0.8591 - val_loss: 0.4572 - val_acc: 0.8492\n",
      "Epoch 50/50\n",
      "250/250 [==============================] - 70s 279ms/step - loss: 0.5246 - acc: 0.8175 - val_loss: 0.8680 - val_acc: 0.6921\n"
     ]
    }
   ],
   "source": [
    "history = model.fit_generator(train_generator, epochs = 50, verbose = 1, validation_data = validation_generator)"
   ]
  },
  {
   "cell_type": "code",
   "execution_count": 14,
   "metadata": {},
   "outputs": [],
   "source": [
    "model.save('garbage(adam).h5')"
   ]
  },
  {
   "cell_type": "code",
   "execution_count": 25,
   "metadata": {},
   "outputs": [
    {
     "data": {
      "image/png": "[encoded data removed]",
      "text/plain": [
       "<Figure size 432x288 with 1 Axes>"
      ]
     },
     "metadata": {
      "needs_background": "light"
     },
     "output_type": "display_data"
    },
    {
     "data": {
      "image/png": "[encoded data removed]",
      "text/plain": [
       "<Figure size 432x288 with 1 Axes>"
      ]
     },
     "metadata": {
      "needs_background": "light"
     },
     "output_type": "display_data"
    }
   ],
   "source": [
    "%matplotlib inline\n",
    "import matplotlib.pyplot as plt\n",
    "acc = history.history['acc']\n",
    "val_acc = history.history['val_acc']\n",
    "loss = history.history['loss']\n",
    "val_loss = history.history['val_loss']\n",
    "\n",
    "epochs = range(len(acc))\n",
    "\n",
    "plt.plot(epochs, acc, 'r', label='Training accuracy')\n",
    "plt.plot(epochs, val_acc, 'b', label='Validation accuracy')\n",
    "plt.title('Training and validation accuracy')\n",
    "plt.legend()\n",
    "plt.figure()\n",
    "\n",
    "plt.plot(epochs, loss, 'r', label='Training Loss')\n",
    "plt.plot(epochs, val_loss, 'b', label='Validation Loss')\n",
    "plt.title('Training and validation loss')\n",
    "plt.legend()\n",
    "\n",
    "plt.show()"
   ]
  },
  {
   "cell_type": "code",
   "execution_count": 15,
   "metadata": {},
   "outputs": [],
   "source": [
    "model = tf.keras.models.load_model('garbage(adam).h5')"
   ]
  },
  {
   "cell_type": "code",
   "execution_count": 21,
   "metadata": {},
   "outputs": [],
   "source": [
    "lr_schedule = tf.keras.optimizers.schedules.ExponentialDecay(initial_learning_rate = 1e-3,\n",
    "                                                        decay_steps = 5000,\n",
    "                                                        decay_rate = 0.75)\n",
    "\n",
    "optimizer = tf.keras.optimizers.SGD(learning_rate = lr_schedule)"
   ]
  },
  {
   "cell_type": "code",
   "execution_count": 22,
   "metadata": {},
   "outputs": [],
   "source": [
    "model.compile(optimizer, loss = 'sparse_categorical_crossentropy', metrics = ['acc'])"
   ]
  },
  {
   "cell_type": "code",
   "execution_count": 24,
   "metadata": {},
   "outputs": [
    {
     "name": "stdout",
     "output_type": "stream",
     "text": [
      "WARNING:tensorflow:sample_weight modes were coerced from\n",
      "  ...\n",
      "    to  \n",
      "  ['...']\n",
      "WARNING:tensorflow:sample_weight modes were coerced from\n",
      "  ...\n",
      "    to  \n",
      "  ['...']\n",
      "Train for 250 steps, validate for 49 steps\n",
      "Epoch 1/10\n",
      "250/250 [==============================] - 83s 332ms/step - loss: 0.3227 - acc: 0.8852 - val_loss: 0.3553 - val_acc: 0.8926\n",
      "Epoch 2/10\n",
      "250/250 [==============================] - 72s 288ms/step - loss: 0.3332 - acc: 0.8780 - val_loss: 0.4170 - val_acc: 0.8512\n",
      "Epoch 3/10\n",
      "250/250 [==============================] - 71s 283ms/step - loss: 0.3669 - acc: 0.8687 - val_loss: 0.3770 - val_acc: 0.8926\n",
      "Epoch 4/10\n",
      "250/250 [==============================] - 69s 276ms/step - loss: 0.3428 - acc: 0.8764 - val_loss: 0.3796 - val_acc: 0.8843\n",
      "Epoch 5/10\n",
      "250/250 [==============================] - 69s 276ms/step - loss: 0.2983 - acc: 0.8932 - val_loss: 0.3692 - val_acc: 0.8698\n",
      "Epoch 6/10\n",
      "250/250 [==============================] - 74s 296ms/step - loss: 0.3220 - acc: 0.8884 - val_loss: 0.3275 - val_acc: 0.9112\n",
      "Epoch 7/10\n",
      "250/250 [==============================] - 73s 291ms/step - loss: 0.3469 - acc: 0.8760 - val_loss: 0.4193 - val_acc: 0.8698\n",
      "Epoch 8/10\n",
      "250/250 [==============================] - 74s 296ms/step - loss: 0.3275 - acc: 0.8864 - val_loss: 0.3811 - val_acc: 0.8740\n",
      "Epoch 9/10\n",
      "250/250 [==============================] - 73s 292ms/step - loss: 0.3229 - acc: 0.8876 - val_loss: 0.3803 - val_acc: 0.8719\n",
      "Epoch 10/10\n",
      "250/250 [==============================] - 75s 302ms/step - loss: 0.2825 - acc: 0.8964 - val_loss: 0.3178 - val_acc: 0.8967\n"
     ]
    }
   ],
   "source": [
    "history = model.fit_generator(train_generator, \n",
    "                              epochs = 10, \n",
    "                              verbose = 1, \n",
    "                              validation_data = validation_generator)"
   ]
  },
  {
   "cell_type": "code",
   "execution_count": 26,
   "metadata": {},
   "outputs": [],
   "source": [
    "model.save('garbage(sgd).h5')"
   ]
  },
  {
   "cell_type": "code",
   "execution_count": null,
   "metadata": {},
   "outputs": [],
   "source": []
  }
 ],
 "metadata": {
  "kernelspec": {
   "display_name": "Python 3",
   "language": "python",
   "name": "python3"
  },
  "language_info": {
   "codemirror_mode": {
    "name": "ipython",
    "version": 3
   },
   "file_extension": ".py",
   "mimetype": "text/x-python",
   "name": "python",
   "nbconvert_exporter": "python",
   "pygments_lexer": "ipython3",
   "version": "3.7.2"
  }
 },
 "nbformat": 4,
 "nbformat_minor": 2
}
